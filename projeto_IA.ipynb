{
  "nbformat": 4,
  "nbformat_minor": 0,
  "metadata": {
    "colab": {
      "provenance": [],
      "include_colab_link": true
    },
    "kernelspec": {
      "name": "python3",
      "display_name": "Python 3"
    },
    "language_info": {
      "name": "python"
    }
  },
  "cells": [
    {
      "cell_type": "markdown",
      "metadata": {
        "id": "view-in-github",
        "colab_type": "text"
      },
      "source": [
        "<a href=\"https://colab.research.google.com/github/David-Marinho/faculdade/blob/main/projeto_IA.ipynb\" target=\"_parent\"><img src=\"https://colab.research.google.com/assets/colab-badge.svg\" alt=\"Open In Colab\"/></a>"
      ]
    },
    {
      "cell_type": "code",
      "execution_count": null,
      "metadata": {
        "id": "6aEOgq0i3GKq"
      },
      "outputs": [],
      "source": [
        "#instalaçao de bibliotecas e ferramentas\n",
        "pip install tensorflow"
      ]
    },
    {
      "cell_type": "code",
      "source": [
        "uri = os.getcwd()\n",
        "rmdir /content/tumores/ipynb_checkpoints"
      ],
      "metadata": {
        "id": "hO7X-s0Pe7GY"
      },
      "execution_count": null,
      "outputs": []
    },
    {
      "cell_type": "code",
      "source": [
        "import os\n",
        "import matplotlib as plt\n",
        "import tensorflow as tf"
      ],
      "metadata": {
        "id": "xSjXnpxx4XQB"
      },
      "execution_count": 3,
      "outputs": []
    },
    {
      "cell_type": "code",
      "source": [
        "dataset_dir = os.path.join(os.getcwd(), 'tumores')\n",
        "dataset_train_dir = os.path.join(dataset_dir, 'train')\n",
        "dataset_menigioma_len = len(os.listdir(os.path.join(dataset_train_dir, 'menigioma')))\n",
        "dataset_validation_dir = os.path.join(dataset_dir, 'validation')\n",
        "\n",
        "print(f'Existem {dataset_menigioma_len} fotos na pasta de menigioma')"
      ],
      "metadata": {
        "id": "k9o3pf006FzO",
        "colab": {
          "base_uri": "https://localhost:8080/"
        },
        "outputId": "634ff5ee-800a-4437-b3ea-1292bf91eb04"
      },
      "execution_count": 4,
      "outputs": [
        {
          "output_type": "stream",
          "name": "stdout",
          "text": [
            "Existem 608 fotos na pasta de menigioma\n"
          ]
        }
      ]
    },
    {
      "cell_type": "code",
      "source": [
        "image_width = 470\n",
        "image_height = 500\n",
        "image_color_chanel = 3\n",
        "image_color_channel_size = 255\n",
        "image_size = (image_width, image_height)\n",
        "image_shape = (image_width, image_height, 3)\n",
        "\n",
        "batch_size = 64\n",
        "epochs = 20\n",
        "learning_rate = 0.0001\n",
        "class_names = ['meningioma', 'glioma', 'tumor hipofisário']"
      ],
      "metadata": {
        "id": "b6cy62O7-k9p"
      },
      "execution_count": 5,
      "outputs": []
    },
    {
      "cell_type": "code",
      "source": [
        "dataset_train = tf.keras.preprocessing.image_dataset_from_directory(\n",
        "    dataset_train_dir,\n",
        "    image_size=image_size,\n",
        "    batch_size=batch_size,\n",
        "    shuffle=True\n",
        ")"
      ],
      "metadata": {
        "colab": {
          "base_uri": "https://localhost:8080/"
        },
        "id": "LNoF18VzyqWq",
        "outputId": "1989ee1e-0b80-4994-af96-d04444367558"
      },
      "execution_count": 6,
      "outputs": [
        {
          "output_type": "stream",
          "name": "stdout",
          "text": [
            "Found 2764 files belonging to 3 classes.\n"
          ]
        }
      ]
    },
    {
      "cell_type": "code",
      "source": [
        "dataset_validation = tf.keras.preprocessing.image_dataset_from_directory(\n",
        "    dataset_validation_dir,\n",
        "    image_size=image_size,\n",
        "    batch_size=batch_size,\n",
        "    shuffle=True\n",
        ")"
      ],
      "metadata": {
        "colab": {
          "base_uri": "https://localhost:8080/"
        },
        "id": "xzDMLIk1zV4e",
        "outputId": "76c8025b-f79c-4fa3-b365-b594527a3849"
      },
      "execution_count": 7,
      "outputs": [
        {
          "output_type": "stream",
          "name": "stdout",
          "text": [
            "Found 300 files belonging to 3 classes.\n"
          ]
        }
      ]
    },
    {
      "cell_type": "code",
      "source": [
        "dataset_validation_cardinality = tf.data.experimental.cardinality(dataset_validation)\n",
        "dataset_validation_batches = dataset_validation_cardinality // 5\n",
        "\n",
        "dataset_test = dataset_validation.take(dataset_validation_batches)"
      ],
      "metadata": {
        "id": "PzVek7Hb1cue"
      },
      "execution_count": 8,
      "outputs": []
    },
    {
      "cell_type": "code",
      "source": [
        "num_classes = len(class_names)\n",
        "\n",
        "model = tf.keras.models.Sequential([\n",
        "    tf.keras.layers.experimental.preprocessing.Rescaling(1. / image_color_channel_size, input_shape=image_shape),\n",
        "\n",
        "    tf.keras.layers.Conv2D(16, 3, padding='same', activation='relu'),\n",
        "    tf.keras.layers.MaxPooling2D(pool_size=(2, 2)),\n",
        "    tf.keras.layers.Conv2D(32, 3, padding='same', activation='relu'),\n",
        "    tf.keras.layers.MaxPooling2D(pool_size=(2, 2)),\n",
        "    tf.keras.layers.Conv2D(64, 3, padding='same', activation='relu'),\n",
        "    tf.keras.layers.MaxPooling2D(pool_size=(3, 3)),\n",
        "    tf.keras.layers.Flatten(),\n",
        "    tf.keras.layers.Dense(128, activation='relu'),\n",
        "    tf.keras.layers.Dense(num_classes, activation='softmax')\n",
        "])\n",
        "\n",
        "model.compile(\n",
        "    optimizer=tf.keras.optimizers.Adam(learning_rate=learning_rate),\n",
        "    loss=tf.keras.losses.SparseCategoricalCrossentropy(),\n",
        "    metrics=['accuracy']\n",
        ")\n",
        "\n",
        "model.summary()"
      ],
      "metadata": {
        "id": "mTotjQol7xtz"
      },
      "execution_count": null,
      "outputs": []
    },
    {
      "cell_type": "code",
      "source": [
        "history = model.fit(\n",
        "    dataset_train,\n",
        "    validation_data=dataset_validation,\n",
        "    epochs=10\n",
        ")"
      ],
      "metadata": {
        "colab": {
          "base_uri": "https://localhost:8080/"
        },
        "id": "oAAANvbgCs-M",
        "outputId": "1b50084b-bd03-488e-c269-7afefcb6b048"
      },
      "execution_count": null,
      "outputs": [
        {
          "output_type": "stream",
          "name": "stdout",
          "text": [
            "Epoch 1/10\n",
            "44/44 [==============================] - 937s 21s/step - loss: 0.7616 - accuracy: 0.6903 - val_loss: 0.6569 - val_accuracy: 0.6433\n",
            "Epoch 2/10\n",
            "44/44 [==============================] - 934s 21s/step - loss: 0.3809 - accuracy: 0.8397 - val_loss: 0.6729 - val_accuracy: 0.6967\n",
            "Epoch 3/10\n"
          ]
        }
      ]
    },
    {
      "cell_type": "code",
      "source": [
        "plt.plot(history.history['accuracy'], label='Accuracy')\n",
        "plt.plot(history.history['val_accuracy'], label='Validation Accuracy')\n",
        "plt.xlabel('Epoch')\n",
        "plt.ylabel('Accuracy')\n",
        "plt.legend()\n",
        "plt.show()"
      ],
      "metadata": {
        "id": "285QkfjaltP3"
      },
      "execution_count": null,
      "outputs": []
    }
  ]
}