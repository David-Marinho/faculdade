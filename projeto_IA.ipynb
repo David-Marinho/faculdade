{
  "nbformat": 4,
  "nbformat_minor": 0,
  "metadata": {
    "colab": {
      "provenance": [],
      "include_colab_link": true
    },
    "kernelspec": {
      "name": "python3",
      "display_name": "Python 3"
    },
    "language_info": {
      "name": "python"
    }
  },
  "cells": [
    {
      "cell_type": "markdown",
      "metadata": {
        "id": "view-in-github",
        "colab_type": "text"
      },
      "source": [
        "<a href=\"https://colab.research.google.com/github/David-Marinho/faculdade/blob/main/projeto_IA.ipynb\" target=\"_parent\"><img src=\"https://colab.research.google.com/assets/colab-badge.svg\" alt=\"Open In Colab\"/></a>"
      ]
    },
    {
      "cell_type": "code",
      "execution_count": null,
      "metadata": {
        "id": "6aEOgq0i3GKq"
      },
      "outputs": [],
      "source": [
        "#instalaçao de bibliotecas e ferramentas\n",
        "pip install tensorflow"
      ]
    },
    {
      "cell_type": "code",
      "source": [
        "uri = os.getcwd()\n",
        "rmdir /content/tumores/ipynb_checkpoints"
      ],
      "metadata": {
        "id": "hO7X-s0Pe7GY"
      },
      "execution_count": null,
      "outputs": []
    },
    {
      "cell_type": "code",
      "source": [
        "import os\n",
        "import matplotlib as plt\n",
        "import tensorflow as tf"
      ],
      "metadata": {
        "id": "xSjXnpxx4XQB"
      },
      "execution_count": 1,
      "outputs": []
    },
    {
      "cell_type": "code",
      "source": [
        "dataset_dir = os.path.join(os.getcwd(), 'tumores')\n",
        "dataset_train_dir = os.path.join(dataset_dir, 'train')\n",
        "dataset_menigioma_len = len(os.listdir(os.path.join(dataset_train_dir, 'menigioma')))\n",
        "dataset_validation_dir = os.path.join(dataset_dir, 'validation')\n",
        "\n",
        "print(f'Existem {dataset_menigioma_len} fotos na pasta de menigioma')"
      ],
      "metadata": {
        "id": "k9o3pf006FzO",
        "colab": {
          "base_uri": "https://localhost:8080/"
        },
        "outputId": "e0b7accb-2397-4ed2-b5df-ecd389cad719"
      },
      "execution_count": 2,
      "outputs": [
        {
          "output_type": "stream",
          "name": "stdout",
          "text": [
            "Existem 608 fotos na pasta de menigioma\n"
          ]
        }
      ]
    },
    {
      "cell_type": "code",
      "source": [
        "image_width = 512\n",
        "image_height = 512\n",
        "image_color_chanel = 3\n",
        "image_color_channel_size = 255\n",
        "image_size = (image_width, image_height)\n",
        "image_shape = (512, 512, 3)\n",
        "\n",
        "batch_size = 64\n",
        "epochs = 20\n",
        "learning_rate = 0.0001\n",
        "class_names = ['meningioma', 'glioma', 'tumor hipofisário']"
      ],
      "metadata": {
        "id": "b6cy62O7-k9p"
      },
      "execution_count": 3,
      "outputs": []
    },
    {
      "cell_type": "code",
      "source": [
        "dataset_train = tf.keras.preprocessing.image_dataset_from_directory(\n",
        "    dataset_train_dir,\n",
        "    image_size=image_size,\n",
        "    batch_size=batch_size,\n",
        "    shuffle=True\n",
        ")"
      ],
      "metadata": {
        "colab": {
          "base_uri": "https://localhost:8080/"
        },
        "id": "LNoF18VzyqWq",
        "outputId": "8db90012-27aa-4eab-abea-4009388f901a"
      },
      "execution_count": 4,
      "outputs": [
        {
          "output_type": "stream",
          "name": "stdout",
          "text": [
            "Found 2764 files belonging to 3 classes.\n"
          ]
        }
      ]
    },
    {
      "cell_type": "code",
      "source": [
        "dataset_validation = tf.keras.preprocessing.image_dataset_from_directory(\n",
        "    dataset_validation_dir,\n",
        "    image_size=image_size,\n",
        "    batch_size=batch_size,\n",
        "    shuffle=True\n",
        ")"
      ],
      "metadata": {
        "colab": {
          "base_uri": "https://localhost:8080/"
        },
        "id": "xzDMLIk1zV4e",
        "outputId": "e1daf0e9-958e-4f85-a503-b0872e72211a"
      },
      "execution_count": 5,
      "outputs": [
        {
          "output_type": "stream",
          "name": "stdout",
          "text": [
            "Found 300 files belonging to 3 classes.\n"
          ]
        }
      ]
    },
    {
      "cell_type": "code",
      "source": [
        "dataset_validation_cardinality = tf.data.experimental.cardinality(dataset_validation)\n",
        "dataset_validation_batches = dataset_validation_cardinality // 5\n",
        "\n",
        "dataset_test = dataset_validation.take(dataset_validation_batches)"
      ],
      "metadata": {
        "id": "PzVek7Hb1cue"
      },
      "execution_count": 6,
      "outputs": []
    },
    {
      "cell_type": "code",
      "source": [
        "num_classes = len(class_names)\n",
        "\n",
        "model = tf.keras.models.Sequential([\n",
        "    tf.keras.layers.experimental.preprocessing.Rescaling(1. / image_color_channel_size, input_shape=image_shape),\n",
        "\n",
        "    tf.keras.layers.Conv2D(16, 3, padding='same', activation='relu'),\n",
        "    tf.keras.layers.MaxPooling2D(pool_size=(2, 2)),\n",
        "    tf.keras.layers.Conv2D(32, 3, padding='same', activation='relu'),\n",
        "    tf.keras.layers.MaxPooling2D(pool_size=(2, 2)),\n",
        "    tf.keras.layers.Conv2D(64, 3, padding='same', activation='relu'),\n",
        "    tf.keras.layers.MaxPooling2D(pool_size=(3, 3)),\n",
        "    tf.keras.layers.Flatten(),\n",
        "    tf.keras.layers.Dense(128, activation='relu'),\n",
        "    tf.keras.layers.Dense(num_classes, activation='softmax')\n",
        "])\n",
        "\n",
        "model.compile(\n",
        "    optimizer=tf.keras.optimizers.Adam(learning_rate=learning_rate),\n",
        "    loss=tf.keras.losses.SparseCategoricalCrossentropy(),\n",
        "    metrics=['accuracy']\n",
        ")\n",
        "\n",
        "model.summary()"
      ],
      "metadata": {
        "colab": {
          "base_uri": "https://localhost:8080/"
        },
        "id": "mTotjQol7xtz",
        "outputId": "e9260626-6eb3-4a33-8dc7-54bd05061947"
      },
      "execution_count": 7,
      "outputs": [
        {
          "output_type": "stream",
          "name": "stdout",
          "text": [
            "Model: \"sequential\"\n",
            "_________________________________________________________________\n",
            " Layer (type)                Output Shape              Param #   \n",
            "=================================================================\n",
            " rescaling (Rescaling)       (None, 512, 512, 3)       0         \n",
            "                                                                 \n",
            " conv2d (Conv2D)             (None, 512, 512, 16)      448       \n",
            "                                                                 \n",
            " max_pooling2d (MaxPooling2D  (None, 256, 256, 16)     0         \n",
            " )                                                               \n",
            "                                                                 \n",
            " conv2d_1 (Conv2D)           (None, 256, 256, 32)      4640      \n",
            "                                                                 \n",
            " max_pooling2d_1 (MaxPooling  (None, 128, 128, 32)     0         \n",
            " 2D)                                                             \n",
            "                                                                 \n",
            " conv2d_2 (Conv2D)           (None, 128, 128, 64)      18496     \n",
            "                                                                 \n",
            " max_pooling2d_2 (MaxPooling  (None, 42, 42, 64)       0         \n",
            " 2D)                                                             \n",
            "                                                                 \n",
            " flatten (Flatten)           (None, 112896)            0         \n",
            "                                                                 \n",
            " dense (Dense)               (None, 128)               14450816  \n",
            "                                                                 \n",
            " dense_1 (Dense)             (None, 3)                 387       \n",
            "                                                                 \n",
            "=================================================================\n",
            "Total params: 14,474,787\n",
            "Trainable params: 14,474,787\n",
            "Non-trainable params: 0\n",
            "_________________________________________________________________\n"
          ]
        }
      ]
    },
    {
      "cell_type": "code",
      "source": [
        "history = model.fit(\n",
        "    dataset_train,\n",
        "    validation_data=dataset_validation,\n",
        "    epochs=10\n",
        ")"
      ],
      "metadata": {
        "colab": {
          "base_uri": "https://localhost:8080/"
        },
        "id": "oAAANvbgCs-M",
        "outputId": "8ebe3291-5abc-4203-de61-cf1888e34f66"
      },
      "execution_count": null,
      "outputs": [
        {
          "output_type": "stream",
          "name": "stdout",
          "text": [
            "Epoch 1/10\n",
            "44/44 [==============================] - 996s 22s/step - loss: 0.7864 - accuracy: 0.6364 - val_loss: 0.4091 - val_accuracy: 0.9033\n",
            "Epoch 2/10\n",
            "44/44 [==============================] - 960s 22s/step - loss: 0.5004 - accuracy: 0.7902 - val_loss: 0.6973 - val_accuracy: 0.6733\n",
            "Epoch 3/10\n",
            "44/44 [==============================] - 956s 22s/step - loss: 0.3940 - accuracy: 0.8397 - val_loss: 0.5428 - val_accuracy: 0.7433\n",
            "Epoch 4/10\n",
            "44/44 [==============================] - 939s 21s/step - loss: 0.3142 - accuracy: 0.8755 - val_loss: 0.4773 - val_accuracy: 0.7933\n",
            "Epoch 5/10\n",
            "44/44 [==============================] - 958s 22s/step - loss: 0.2683 - accuracy: 0.8922 - val_loss: 0.4617 - val_accuracy: 0.7967\n",
            "Epoch 6/10\n",
            "44/44 [==============================] - 956s 22s/step - loss: 0.2405 - accuracy: 0.9034 - val_loss: 0.4205 - val_accuracy: 0.8233\n",
            "Epoch 7/10\n",
            "28/44 [==================>...........] - ETA: 5:39 - loss: 0.2015 - accuracy: 0.9235"
          ]
        }
      ]
    },
    {
      "cell_type": "code",
      "source": [
        "plt.plot(history.history['accuracy'], label='Accuracy')\n",
        "plt.plot(history.history['val_accuracy'], label='Validation Accuracy')\n",
        "plt.xlabel('Epoch')\n",
        "plt.ylabel('Accuracy')\n",
        "plt.legend()\n",
        "plt.show()"
      ],
      "metadata": {
        "id": "285QkfjaltP3"
      },
      "execution_count": null,
      "outputs": []
    }
  ]
}